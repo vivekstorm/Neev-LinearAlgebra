{
 "cells": [
  {
   "cell_type": "raw",
   "metadata": {},
   "source": [
    "Assignment 1\n",
    "\n",
    "Implement the Gauss elimination algorithm for computing the solution to a linear system of equations Ax = b\n",
    "Requirements\n",
    "\n",
    "    The program should take as argument a single file name. The file will contain the pickle'd numpy matrix A and vector b\n",
    "    You need to implement the algorithm from scratch, not use a numpy routine\n",
    "    The output should be a numpy array containing the solution x\n",
    "    Your code should detect whether the system of equations is consistent or not\n",
    "    In case multiple solutions are possible, any one should be returned.\n",
    "    In case no solutions are possible, an error should be thrown\n",
    "\n",
    "Assignment submission\n",
    "\n",
    "The assignment should be submitted as a link to a directory in github. The directory should contain a README.md file which will have a description of the program usage and any other comments.\n",
    "\n",
    "The submission type is set to Online Text. Simply paste the github URL to your program directory here.\n",
    "Reading the input:\n",
    "\n",
    "Input can be read using something like the following code snippet:\n",
    "\n",
    "fp = open('filename.pkl', 'rb')\n",
    "(A, b) = pickle.load(fp)\n",
    "fp.close()\n",
    "# A - matrix, b - RHS array"
   ]
  },
  {
   "cell_type": "code",
   "execution_count": 3,
   "metadata": {},
   "outputs": [],
   "source": [
    "import pickle\n",
    "import numpy as np"
   ]
  },
  {
   "cell_type": "code",
   "execution_count": 42,
   "metadata": {},
   "outputs": [
    {
     "name": "stdout",
     "output_type": "stream",
     "text": [
      "3 3\n"
     ]
    }
   ],
   "source": [
    "m,n=[int(x)for x in input().split()]"
   ]
  },
  {
   "cell_type": "code",
   "execution_count": 43,
   "metadata": {},
   "outputs": [
    {
     "name": "stdout",
     "output_type": "stream",
     "text": [
      "3 2 -4\n",
      "2 3 3\n",
      "5 -3 1\n"
     ]
    }
   ],
   "source": [
    "arr=[]\n",
    "for i in range(m):\n",
    "    atemp=[int(x) for x in input().split()]\n",
    "    arr.append(atemp)"
   ]
  },
  {
   "cell_type": "code",
   "execution_count": 47,
   "metadata": {},
   "outputs": [],
   "source": [
    "A=np.array(arr)"
   ]
  },
  {
   "cell_type": "code",
   "execution_count": 44,
   "metadata": {},
   "outputs": [
    {
     "name": "stdout",
     "output_type": "stream",
     "text": [
      "3 15 14\n"
     ]
    }
   ],
   "source": [
    "temp=[]\n",
    "btemp=[int(x) for x in input().split()]\n",
    "temp.append(btemp)"
   ]
  },
  {
   "cell_type": "code",
   "execution_count": 45,
   "metadata": {},
   "outputs": [
    {
     "data": {
      "text/plain": [
       "array([[ 3],\n",
       "       [15],\n",
       "       [14]])"
      ]
     },
     "execution_count": 45,
     "metadata": {},
     "output_type": "execute_result"
    }
   ],
   "source": [
    "B=np.array(temp)\n",
    "B=B.T\n",
    "B"
   ]
  },
  {
   "cell_type": "code",
   "execution_count": 48,
   "metadata": {},
   "outputs": [],
   "source": [
    "with open('data.pickle', 'wb') as f:\n",
    "    \n",
    "    \n",
    "    pickle.dump((A,B), f, pickle.HIGHEST_PROTOCOL)"
   ]
  },
  {
   "cell_type": "code",
   "execution_count": 49,
   "metadata": {
    "collapsed": true
   },
   "outputs": [],
   "source": [
    "with open('data.pickle', 'rb') as f:\n",
    "    (A,B) = pickle.load(f)"
   ]
  },
  {
   "cell_type": "code",
   "execution_count": 50,
   "metadata": {
    "collapsed": true
   },
   "outputs": [],
   "source": [
    "AB=np.hstack((A,B))"
   ]
  },
  {
   "cell_type": "code",
   "execution_count": 51,
   "metadata": {
    "collapsed": true
   },
   "outputs": [],
   "source": [
    "def swap_row(M,i,j):\n",
    "    for k in range(0,N+1):\n",
    "        M[i][k],M[j][k]=M[j][k],M[i][k]"
   ]
  },
  {
   "cell_type": "code",
   "execution_count": 52,
   "metadata": {
    "collapsed": true
   },
   "outputs": [],
   "source": [
    "def forwardElim(M):\n",
    "    for k in range(N):\n",
    "        imax=k\n",
    "        vmax=M[imax][k]\n",
    "        \n",
    "        for i in range(k+1,N):\n",
    "            if abs(M[i][k])>vmax:\n",
    "                vmax=M[i][k]\n",
    "                imax=i\n",
    "        if not(M[k][imax]):\n",
    "            return k\n",
    "        if imax!=k:\n",
    "            swap_row(M,k,imax)\n",
    "        for i in range(k+1,N):\n",
    "            f=M[i][k]/M[k][k]\n",
    "            \n",
    "            for j in range(k+1,N+1):\n",
    "                M[i][j]-=M[k][j]*f\n",
    "            \n",
    "            M[i][k]=0\n",
    "    \n",
    "    return -1"
   ]
  },
  {
   "cell_type": "code",
   "execution_count": 53,
   "metadata": {
    "collapsed": true
   },
   "outputs": [],
   "source": [
    "def backsub(M):\n",
    "    x=[0 for i in range(0,N+1)]\n",
    "    for i in range(N-1,-1,-1):\n",
    "        x[i]=M[i][N]\n",
    "        \n",
    "        for j in range(i+1,N):\n",
    "            x[i]-=M[i][j]*x[j]\n",
    "        \n",
    "        x[i]=x[i]/M[i][i]\n",
    "        \n",
    "    for i in range(0,N):\n",
    "        print(int(x[i]))"
   ]
  },
  {
   "cell_type": "code",
   "execution_count": 54,
   "metadata": {
    "collapsed": true
   },
   "outputs": [],
   "source": [
    "def gaussianElimination(M):\n",
    "    flag=forwardElim(M)\n",
    "    \n",
    "    if flag!=-1:\n",
    "        if M[flag][N]:\n",
    "            print('Inconsistent')\n",
    "        else:\n",
    "            print('infinite solution')\n",
    "        return\n",
    "    backsub(M)"
   ]
  },
  {
   "cell_type": "code",
   "execution_count": 55,
   "metadata": {},
   "outputs": [
    {
     "name": "stdout",
     "output_type": "stream",
     "text": [
      "3\n",
      "1\n",
      "2\n"
     ]
    }
   ],
   "source": [
    "#driver function\n",
    "M=AB\n",
    "N=len(M)\n",
    "gaussianElimination(M)"
   ]
  },
  {
   "cell_type": "code",
   "execution_count": null,
   "metadata": {
    "collapsed": true
   },
   "outputs": [],
   "source": []
  }
 ],
 "metadata": {
  "kernelspec": {
   "display_name": "Python 3",
   "language": "python",
   "name": "python3"
  },
  "language_info": {
   "codemirror_mode": {
    "name": "ipython",
    "version": 3
   },
   "file_extension": ".py",
   "mimetype": "text/x-python",
   "name": "python",
   "nbconvert_exporter": "python",
   "pygments_lexer": "ipython3",
   "version": "3.6.1"
  }
 },
 "nbformat": 4,
 "nbformat_minor": 2
}
